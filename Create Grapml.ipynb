{
 "cells": [
  {
   "cell_type": "code",
   "execution_count": 1,
   "metadata": {},
   "outputs": [],
   "source": [
    "import xml.etree.ElementTree as ET\n",
    "import numpy as np\n",
    "tree = ET.parse('Gleiser_comics_weighted_network-4.xml')\n",
    "root = tree.getroot()"
   ]
  },
  {
   "cell_type": "code",
   "execution_count": 2,
   "metadata": {},
   "outputs": [
    {
     "data": {
      "text/plain": [
       "1"
      ]
     },
     "execution_count": 2,
     "metadata": {},
     "output_type": "execute_result"
    }
   ],
   "source": [
    "f = open(\"marvel-4.graphml\", \"w\")\n",
    "f.write(\"<?xml version='1.0' encoding='utf-8'?>\")\n",
    "f.write(\"\\n\")\n",
    "f.write(\"<graphml xmlns=\\\"http://graphml.graphdrawing.org/xmlns\\\" xmlns:xsi=\\\"http://www.w3.org/2001/XMLSchema-instance\\\" xsi:schemaLocation=\\\"http://graphml.graphdrawing.org/xmlns http://graphml.graphdrawing.org/xmlns/1.0/graphml.xsd\\\">\")\n",
    "f.write(\"\\n\")\n",
    "f.write(\"<key attr.name=\\\"name\\\" attr.type=\\\"string\\\" for=\\\"node\\\" id=\\\"1\\\"/>\")\n",
    "f.write(\"\\n\")\n",
    "f.write(\"<graph edgedefault=\\\"undirected\\\">\")\n",
    "f.write(\"\\n\")"
   ]
  },
  {
   "cell_type": "code",
   "execution_count": 3,
   "metadata": {},
   "outputs": [],
   "source": [
    "for node in root.iter('node'):\n",
    "    label = node.get('id')\n",
    "    name = node.get('title')\n",
    "    f.write(\"<node id=\\\"\")\n",
    "    f.write(label)\n",
    "    f.write(\"\\\">\")\n",
    "    f.write(\"\\n\")\n",
    "    f.write(\"  <data key=\\\"1\\\">\")\n",
    "    f.write(name)\n",
    "    f.write(\"</data>\")\n",
    "    f.write(\"\\n\")\n",
    "    f.write(\"</node>\")\n",
    "    f.write(\"\\n\")"
   ]
  },
  {
   "cell_type": "code",
   "execution_count": 4,
   "metadata": {},
   "outputs": [],
   "source": [
    "np.array = []\n",
    "for link in root.iter('link'):\n",
    "    np.array.append(link)\n",
    "    \n",
    "edgelist = np.array\n",
    "edgelist = edgelist[::2]\n",
    "\n",
    "i = 0\n",
    "for element in edgelist:\n",
    "    source = edgelist[i].get('source')\n",
    "    target = edgelist[i].get('target')\n",
    "    f.write(\"<edge source=\\\"\")\n",
    "    f.write(source)\n",
    "    f.write(\"\\\" \")\n",
    "    f.write(\"target=\\\"\")\n",
    "    f.write(target)\n",
    "    f.write(\"\\\"/>\")\n",
    "    f.write(\"\\n\")\n",
    "    i += 1\n",
    "    \n",
    "f.write(\"</graph></graphml>\")\n",
    "f.close()"
   ]
  }
 ],
 "metadata": {
  "kernelspec": {
   "display_name": "Python 3",
   "language": "python",
   "name": "python3"
  },
  "language_info": {
   "codemirror_mode": {
    "name": "ipython",
    "version": 3
   },
   "file_extension": ".py",
   "mimetype": "text/x-python",
   "name": "python",
   "nbconvert_exporter": "python",
   "pygments_lexer": "ipython3",
   "version": "3.8.3"
  }
 },
 "nbformat": 4,
 "nbformat_minor": 4
}
