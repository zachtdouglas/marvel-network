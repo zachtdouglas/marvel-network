{
 "cells": [
  {
   "cell_type": "code",
   "execution_count": 7,
   "metadata": {},
   "outputs": [],
   "source": [
    "import xml.etree.ElementTree as ET\n",
    "import numpy as np"
   ]
  },
  {
   "cell_type": "code",
   "execution_count": 8,
   "metadata": {},
   "outputs": [],
   "source": [
    "tree = ET.parse('Gleiser_comics_weighted_network-4.xml')\n",
    "root = tree.getroot()"
   ]
  },
  {
   "cell_type": "code",
   "execution_count": 9,
   "metadata": {},
   "outputs": [],
   "source": [
    "f = open(\"node key.txt\", \"w\")\n",
    "for node in root.iter('node'):\n",
    "    label = node.get('id')\n",
    "    name = node.get('title')\n",
    "    f.write(label)\n",
    "    f.write(\" \")\n",
    "    f.write(name)\n",
    "    f.write(\"\\n\")\n",
    "    \n",
    "f.close()"
   ]
  },
  {
   "cell_type": "code",
   "execution_count": 10,
   "metadata": {},
   "outputs": [],
   "source": [
    "np.array = []\n",
    "for link in root.iter('link'):\n",
    "    np.array.append(link)\n",
    "    \n",
    "edgelist = np.array\n",
    "edgelist = edgelist[::2]\n",
    "\n",
    "f = open(\"edgelist.txt\", \"w\")\n",
    "\n",
    "i = 0\n",
    "for element in edgelist:\n",
    "    source = edgelist[i].get('source')\n",
    "    target = edgelist[i].get('target')\n",
    "    f.write(source)\n",
    "    f.write(\" \")\n",
    "    f.write(target)\n",
    "    f.write(\"\\n\")\n",
    "    i += 1\n",
    "    \n",
    "f.close()"
   ]
  },
  {
   "cell_type": "code",
   "execution_count": null,
   "metadata": {},
   "outputs": [],
   "source": []
  }
 ],
 "metadata": {
  "kernelspec": {
   "display_name": "Python 3",
   "language": "python",
   "name": "python3"
  },
  "language_info": {
   "codemirror_mode": {
    "name": "ipython",
    "version": 3
   },
   "file_extension": ".py",
   "mimetype": "text/x-python",
   "name": "python",
   "nbconvert_exporter": "python",
   "pygments_lexer": "ipython3",
   "version": "3.8.3"
  }
 },
 "nbformat": 4,
 "nbformat_minor": 4
}
